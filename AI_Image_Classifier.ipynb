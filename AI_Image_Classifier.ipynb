{
  "nbformat": 4,
  "nbformat_minor": 0,
  "metadata": {
    "colab": {
      "provenance": []
    },
    "kernelspec": {
      "name": "python3",
      "display_name": "Python 3"
    },
    "language_info": {
      "name": "python"
    }
  },
  "cells": [
    {
      "cell_type": "code",
      "source": [
        "!pip install gradio"
      ],
      "metadata": {
        "colab": {
          "base_uri": "https://localhost:8080/"
        },
        "id": "DwUE3S_FmUSB",
        "outputId": "d68bbb0c-9498-4cd3-e77c-357aa51d637e"
      },
      "execution_count": 2,
      "outputs": [
        {
          "output_type": "stream",
          "name": "stdout",
          "text": [
            "Collecting gradio\n",
            "  Downloading gradio-4.36.1-py3-none-any.whl (12.3 MB)\n",
            "\u001b[2K     \u001b[90m━━━━━━━━━━━━━━━━━━━━━━━━━━━━━━━━━━━━━━━━\u001b[0m \u001b[32m12.3/12.3 MB\u001b[0m \u001b[31m41.3 MB/s\u001b[0m eta \u001b[36m0:00:00\u001b[0m\n",
            "\u001b[?25hCollecting aiofiles<24.0,>=22.0 (from gradio)\n",
            "  Downloading aiofiles-23.2.1-py3-none-any.whl (15 kB)\n",
            "Requirement already satisfied: altair<6.0,>=4.2.0 in /usr/local/lib/python3.10/dist-packages (from gradio) (4.2.2)\n",
            "Collecting fastapi (from gradio)\n",
            "  Downloading fastapi-0.111.0-py3-none-any.whl (91 kB)\n",
            "\u001b[2K     \u001b[90m━━━━━━━━━━━━━━━━━━━━━━━━━━━━━━━━━━━━━━━━\u001b[0m \u001b[32m92.0/92.0 kB\u001b[0m \u001b[31m10.0 MB/s\u001b[0m eta \u001b[36m0:00:00\u001b[0m\n",
            "\u001b[?25hCollecting ffmpy (from gradio)\n",
            "  Downloading ffmpy-0.3.2.tar.gz (5.5 kB)\n",
            "  Preparing metadata (setup.py) ... \u001b[?25l\u001b[?25hdone\n",
            "Collecting gradio-client==1.0.1 (from gradio)\n",
            "  Downloading gradio_client-1.0.1-py3-none-any.whl (318 kB)\n",
            "\u001b[2K     \u001b[90m━━━━━━━━━━━━━━━━━━━━━━━━━━━━━━━━━━━━━━━━\u001b[0m \u001b[32m318.1/318.1 kB\u001b[0m \u001b[31m26.4 MB/s\u001b[0m eta \u001b[36m0:00:00\u001b[0m\n",
            "\u001b[?25hCollecting httpx>=0.24.1 (from gradio)\n",
            "  Downloading httpx-0.27.0-py3-none-any.whl (75 kB)\n",
            "\u001b[2K     \u001b[90m━━━━━━━━━━━━━━━━━━━━━━━━━━━━━━━━━━━━━━━━\u001b[0m \u001b[32m75.6/75.6 kB\u001b[0m \u001b[31m8.1 MB/s\u001b[0m eta \u001b[36m0:00:00\u001b[0m\n",
            "\u001b[?25hRequirement already satisfied: huggingface-hub>=0.19.3 in /usr/local/lib/python3.10/dist-packages (from gradio) (0.23.3)\n",
            "Requirement already satisfied: importlib-resources<7.0,>=1.3 in /usr/local/lib/python3.10/dist-packages (from gradio) (6.4.0)\n",
            "Requirement already satisfied: jinja2<4.0 in /usr/local/lib/python3.10/dist-packages (from gradio) (3.1.4)\n",
            "Requirement already satisfied: markupsafe~=2.0 in /usr/local/lib/python3.10/dist-packages (from gradio) (2.1.5)\n",
            "Requirement already satisfied: matplotlib~=3.0 in /usr/local/lib/python3.10/dist-packages (from gradio) (3.7.1)\n",
            "Requirement already satisfied: numpy<3.0,>=1.0 in /usr/local/lib/python3.10/dist-packages (from gradio) (1.25.2)\n",
            "Collecting orjson~=3.0 (from gradio)\n",
            "  Downloading orjson-3.10.5-cp310-cp310-manylinux_2_17_x86_64.manylinux2014_x86_64.whl (144 kB)\n",
            "\u001b[2K     \u001b[90m━━━━━━━━━━━━━━━━━━━━━━━━━━━━━━━━━━━━━━━━\u001b[0m \u001b[32m145.0/145.0 kB\u001b[0m \u001b[31m10.8 MB/s\u001b[0m eta \u001b[36m0:00:00\u001b[0m\n",
            "\u001b[?25hRequirement already satisfied: packaging in /usr/local/lib/python3.10/dist-packages (from gradio) (24.1)\n",
            "Requirement already satisfied: pandas<3.0,>=1.0 in /usr/local/lib/python3.10/dist-packages (from gradio) (2.0.3)\n",
            "Requirement already satisfied: pillow<11.0,>=8.0 in /usr/local/lib/python3.10/dist-packages (from gradio) (9.4.0)\n",
            "Requirement already satisfied: pydantic>=2.0 in /usr/local/lib/python3.10/dist-packages (from gradio) (2.7.3)\n",
            "Collecting pydub (from gradio)\n",
            "  Downloading pydub-0.25.1-py2.py3-none-any.whl (32 kB)\n",
            "Collecting python-multipart>=0.0.9 (from gradio)\n",
            "  Downloading python_multipart-0.0.9-py3-none-any.whl (22 kB)\n",
            "Requirement already satisfied: pyyaml<7.0,>=5.0 in /usr/local/lib/python3.10/dist-packages (from gradio) (6.0.1)\n",
            "Collecting ruff>=0.2.2 (from gradio)\n",
            "  Downloading ruff-0.4.9-py3-none-manylinux_2_17_x86_64.manylinux2014_x86_64.whl (8.8 MB)\n",
            "\u001b[2K     \u001b[90m━━━━━━━━━━━━━━━━━━━━━━━━━━━━━━━━━━━━━━━━\u001b[0m \u001b[32m8.8/8.8 MB\u001b[0m \u001b[31m75.6 MB/s\u001b[0m eta \u001b[36m0:00:00\u001b[0m\n",
            "\u001b[?25hCollecting semantic-version~=2.0 (from gradio)\n",
            "  Downloading semantic_version-2.10.0-py2.py3-none-any.whl (15 kB)\n",
            "Collecting tomlkit==0.12.0 (from gradio)\n",
            "  Downloading tomlkit-0.12.0-py3-none-any.whl (37 kB)\n",
            "Requirement already satisfied: typer<1.0,>=0.12 in /usr/local/lib/python3.10/dist-packages (from gradio) (0.12.3)\n",
            "Requirement already satisfied: typing-extensions~=4.0 in /usr/local/lib/python3.10/dist-packages (from gradio) (4.12.2)\n",
            "Requirement already satisfied: urllib3~=2.0 in /usr/local/lib/python3.10/dist-packages (from gradio) (2.0.7)\n",
            "Collecting uvicorn>=0.14.0 (from gradio)\n",
            "  Downloading uvicorn-0.30.1-py3-none-any.whl (62 kB)\n",
            "\u001b[2K     \u001b[90m━━━━━━━━━━━━━━━━━━━━━━━━━━━━━━━━━━━━━━━━\u001b[0m \u001b[32m62.4/62.4 kB\u001b[0m \u001b[31m7.3 MB/s\u001b[0m eta \u001b[36m0:00:00\u001b[0m\n",
            "\u001b[?25hRequirement already satisfied: fsspec in /usr/local/lib/python3.10/dist-packages (from gradio-client==1.0.1->gradio) (2023.6.0)\n",
            "Collecting websockets<12.0,>=10.0 (from gradio-client==1.0.1->gradio)\n",
            "  Downloading websockets-11.0.3-cp310-cp310-manylinux_2_5_x86_64.manylinux1_x86_64.manylinux_2_17_x86_64.manylinux2014_x86_64.whl (129 kB)\n",
            "\u001b[2K     \u001b[90m━━━━━━━━━━━━━━━━━━━━━━━━━━━━━━━━━━━━━━━━\u001b[0m \u001b[32m129.9/129.9 kB\u001b[0m \u001b[31m16.9 MB/s\u001b[0m eta \u001b[36m0:00:00\u001b[0m\n",
            "\u001b[?25hRequirement already satisfied: entrypoints in /usr/local/lib/python3.10/dist-packages (from altair<6.0,>=4.2.0->gradio) (0.4)\n",
            "Requirement already satisfied: jsonschema>=3.0 in /usr/local/lib/python3.10/dist-packages (from altair<6.0,>=4.2.0->gradio) (4.19.2)\n",
            "Requirement already satisfied: toolz in /usr/local/lib/python3.10/dist-packages (from altair<6.0,>=4.2.0->gradio) (0.12.1)\n",
            "Requirement already satisfied: anyio in /usr/local/lib/python3.10/dist-packages (from httpx>=0.24.1->gradio) (3.7.1)\n",
            "Requirement already satisfied: certifi in /usr/local/lib/python3.10/dist-packages (from httpx>=0.24.1->gradio) (2024.6.2)\n",
            "Collecting httpcore==1.* (from httpx>=0.24.1->gradio)\n",
            "  Downloading httpcore-1.0.5-py3-none-any.whl (77 kB)\n",
            "\u001b[2K     \u001b[90m━━━━━━━━━━━━━━━━━━━━━━━━━━━━━━━━━━━━━━━━\u001b[0m \u001b[32m77.9/77.9 kB\u001b[0m \u001b[31m9.6 MB/s\u001b[0m eta \u001b[36m0:00:00\u001b[0m\n",
            "\u001b[?25hRequirement already satisfied: idna in /usr/local/lib/python3.10/dist-packages (from httpx>=0.24.1->gradio) (3.7)\n",
            "Requirement already satisfied: sniffio in /usr/local/lib/python3.10/dist-packages (from httpx>=0.24.1->gradio) (1.3.1)\n",
            "Collecting h11<0.15,>=0.13 (from httpcore==1.*->httpx>=0.24.1->gradio)\n",
            "  Downloading h11-0.14.0-py3-none-any.whl (58 kB)\n",
            "\u001b[2K     \u001b[90m━━━━━━━━━━━━━━━━━━━━━━━━━━━━━━━━━━━━━━━━\u001b[0m \u001b[32m58.3/58.3 kB\u001b[0m \u001b[31m6.0 MB/s\u001b[0m eta \u001b[36m0:00:00\u001b[0m\n",
            "\u001b[?25hRequirement already satisfied: filelock in /usr/local/lib/python3.10/dist-packages (from huggingface-hub>=0.19.3->gradio) (3.14.0)\n",
            "Requirement already satisfied: requests in /usr/local/lib/python3.10/dist-packages (from huggingface-hub>=0.19.3->gradio) (2.31.0)\n",
            "Requirement already satisfied: tqdm>=4.42.1 in /usr/local/lib/python3.10/dist-packages (from huggingface-hub>=0.19.3->gradio) (4.66.4)\n",
            "Requirement already satisfied: contourpy>=1.0.1 in /usr/local/lib/python3.10/dist-packages (from matplotlib~=3.0->gradio) (1.2.1)\n",
            "Requirement already satisfied: cycler>=0.10 in /usr/local/lib/python3.10/dist-packages (from matplotlib~=3.0->gradio) (0.12.1)\n",
            "Requirement already satisfied: fonttools>=4.22.0 in /usr/local/lib/python3.10/dist-packages (from matplotlib~=3.0->gradio) (4.53.0)\n",
            "Requirement already satisfied: kiwisolver>=1.0.1 in /usr/local/lib/python3.10/dist-packages (from matplotlib~=3.0->gradio) (1.4.5)\n",
            "Requirement already satisfied: pyparsing>=2.3.1 in /usr/local/lib/python3.10/dist-packages (from matplotlib~=3.0->gradio) (3.1.2)\n",
            "Requirement already satisfied: python-dateutil>=2.7 in /usr/local/lib/python3.10/dist-packages (from matplotlib~=3.0->gradio) (2.8.2)\n",
            "Requirement already satisfied: pytz>=2020.1 in /usr/local/lib/python3.10/dist-packages (from pandas<3.0,>=1.0->gradio) (2023.4)\n",
            "Requirement already satisfied: tzdata>=2022.1 in /usr/local/lib/python3.10/dist-packages (from pandas<3.0,>=1.0->gradio) (2024.1)\n",
            "Requirement already satisfied: annotated-types>=0.4.0 in /usr/local/lib/python3.10/dist-packages (from pydantic>=2.0->gradio) (0.7.0)\n",
            "Requirement already satisfied: pydantic-core==2.18.4 in /usr/local/lib/python3.10/dist-packages (from pydantic>=2.0->gradio) (2.18.4)\n",
            "Requirement already satisfied: click>=8.0.0 in /usr/local/lib/python3.10/dist-packages (from typer<1.0,>=0.12->gradio) (8.1.7)\n",
            "Requirement already satisfied: shellingham>=1.3.0 in /usr/local/lib/python3.10/dist-packages (from typer<1.0,>=0.12->gradio) (1.5.4)\n",
            "Requirement already satisfied: rich>=10.11.0 in /usr/local/lib/python3.10/dist-packages (from typer<1.0,>=0.12->gradio) (13.7.1)\n",
            "Collecting starlette<0.38.0,>=0.37.2 (from fastapi->gradio)\n",
            "  Downloading starlette-0.37.2-py3-none-any.whl (71 kB)\n",
            "\u001b[2K     \u001b[90m━━━━━━━━━━━━━━━━━━━━━━━━━━━━━━━━━━━━━━━━\u001b[0m \u001b[32m71.9/71.9 kB\u001b[0m \u001b[31m8.7 MB/s\u001b[0m eta \u001b[36m0:00:00\u001b[0m\n",
            "\u001b[?25hCollecting fastapi-cli>=0.0.2 (from fastapi->gradio)\n",
            "  Downloading fastapi_cli-0.0.4-py3-none-any.whl (9.5 kB)\n",
            "Collecting ujson!=4.0.2,!=4.1.0,!=4.2.0,!=4.3.0,!=5.0.0,!=5.1.0,>=4.0.1 (from fastapi->gradio)\n",
            "  Downloading ujson-5.10.0-cp310-cp310-manylinux_2_17_x86_64.manylinux2014_x86_64.whl (53 kB)\n",
            "\u001b[2K     \u001b[90m━━━━━━━━━━━━━━━━━━━━━━━━━━━━━━━━━━━━━━━━\u001b[0m \u001b[32m53.6/53.6 kB\u001b[0m \u001b[31m6.8 MB/s\u001b[0m eta \u001b[36m0:00:00\u001b[0m\n",
            "\u001b[?25hCollecting email_validator>=2.0.0 (from fastapi->gradio)\n",
            "  Downloading email_validator-2.1.1-py3-none-any.whl (30 kB)\n",
            "Collecting dnspython>=2.0.0 (from email_validator>=2.0.0->fastapi->gradio)\n",
            "  Downloading dnspython-2.6.1-py3-none-any.whl (307 kB)\n",
            "\u001b[2K     \u001b[90m━━━━━━━━━━━━━━━━━━━━━━━━━━━━━━━━━━━━━━━━\u001b[0m \u001b[32m307.7/307.7 kB\u001b[0m \u001b[31m32.2 MB/s\u001b[0m eta \u001b[36m0:00:00\u001b[0m\n",
            "\u001b[?25hRequirement already satisfied: attrs>=22.2.0 in /usr/local/lib/python3.10/dist-packages (from jsonschema>=3.0->altair<6.0,>=4.2.0->gradio) (23.2.0)\n",
            "Requirement already satisfied: jsonschema-specifications>=2023.03.6 in /usr/local/lib/python3.10/dist-packages (from jsonschema>=3.0->altair<6.0,>=4.2.0->gradio) (2023.12.1)\n",
            "Requirement already satisfied: referencing>=0.28.4 in /usr/local/lib/python3.10/dist-packages (from jsonschema>=3.0->altair<6.0,>=4.2.0->gradio) (0.35.1)\n",
            "Requirement already satisfied: rpds-py>=0.7.1 in /usr/local/lib/python3.10/dist-packages (from jsonschema>=3.0->altair<6.0,>=4.2.0->gradio) (0.18.1)\n",
            "Requirement already satisfied: six>=1.5 in /usr/local/lib/python3.10/dist-packages (from python-dateutil>=2.7->matplotlib~=3.0->gradio) (1.16.0)\n",
            "Requirement already satisfied: markdown-it-py>=2.2.0 in /usr/local/lib/python3.10/dist-packages (from rich>=10.11.0->typer<1.0,>=0.12->gradio) (3.0.0)\n",
            "Requirement already satisfied: pygments<3.0.0,>=2.13.0 in /usr/local/lib/python3.10/dist-packages (from rich>=10.11.0->typer<1.0,>=0.12->gradio) (2.16.1)\n",
            "Requirement already satisfied: exceptiongroup in /usr/local/lib/python3.10/dist-packages (from anyio->httpx>=0.24.1->gradio) (1.2.1)\n",
            "Collecting httptools>=0.5.0 (from uvicorn>=0.14.0->gradio)\n",
            "  Downloading httptools-0.6.1-cp310-cp310-manylinux_2_5_x86_64.manylinux1_x86_64.manylinux_2_17_x86_64.manylinux2014_x86_64.whl (341 kB)\n",
            "\u001b[2K     \u001b[90m━━━━━━━━━━━━━━━━━━━━━━━━━━━━━━━━━━━━━━━━\u001b[0m \u001b[32m341.4/341.4 kB\u001b[0m \u001b[31m34.9 MB/s\u001b[0m eta \u001b[36m0:00:00\u001b[0m\n",
            "\u001b[?25hCollecting python-dotenv>=0.13 (from uvicorn>=0.14.0->gradio)\n",
            "  Downloading python_dotenv-1.0.1-py3-none-any.whl (19 kB)\n",
            "Collecting uvloop!=0.15.0,!=0.15.1,>=0.14.0 (from uvicorn>=0.14.0->gradio)\n",
            "  Downloading uvloop-0.19.0-cp310-cp310-manylinux_2_17_x86_64.manylinux2014_x86_64.whl (3.4 MB)\n",
            "\u001b[2K     \u001b[90m━━━━━━━━━━━━━━━━━━━━━━━━━━━━━━━━━━━━━━━━\u001b[0m \u001b[32m3.4/3.4 MB\u001b[0m \u001b[31m83.4 MB/s\u001b[0m eta \u001b[36m0:00:00\u001b[0m\n",
            "\u001b[?25hCollecting watchfiles>=0.13 (from uvicorn>=0.14.0->gradio)\n",
            "  Downloading watchfiles-0.22.0-cp310-cp310-manylinux_2_17_x86_64.manylinux2014_x86_64.whl (1.2 MB)\n",
            "\u001b[2K     \u001b[90m━━━━━━━━━━━━━━━━━━━━━━━━━━━━━━━━━━━━━━━━\u001b[0m \u001b[32m1.2/1.2 MB\u001b[0m \u001b[31m49.0 MB/s\u001b[0m eta \u001b[36m0:00:00\u001b[0m\n",
            "\u001b[?25hRequirement already satisfied: charset-normalizer<4,>=2 in /usr/local/lib/python3.10/dist-packages (from requests->huggingface-hub>=0.19.3->gradio) (3.3.2)\n",
            "Requirement already satisfied: mdurl~=0.1 in /usr/local/lib/python3.10/dist-packages (from markdown-it-py>=2.2.0->rich>=10.11.0->typer<1.0,>=0.12->gradio) (0.1.2)\n",
            "Building wheels for collected packages: ffmpy\n",
            "  Building wheel for ffmpy (setup.py) ... \u001b[?25l\u001b[?25hdone\n",
            "  Created wheel for ffmpy: filename=ffmpy-0.3.2-py3-none-any.whl size=5584 sha256=5459eb52d84a432c8f4d28972246eef8896216af73a9dd7f436977fa9de35179\n",
            "  Stored in directory: /root/.cache/pip/wheels/bd/65/9a/671fc6dcde07d4418df0c592f8df512b26d7a0029c2a23dd81\n",
            "Successfully built ffmpy\n",
            "Installing collected packages: pydub, ffmpy, websockets, uvloop, ujson, tomlkit, semantic-version, ruff, python-multipart, python-dotenv, orjson, httptools, h11, dnspython, aiofiles, watchfiles, uvicorn, starlette, httpcore, email_validator, httpx, gradio-client, fastapi-cli, fastapi, gradio\n",
            "Successfully installed aiofiles-23.2.1 dnspython-2.6.1 email_validator-2.1.1 fastapi-0.111.0 fastapi-cli-0.0.4 ffmpy-0.3.2 gradio-4.36.1 gradio-client-1.0.1 h11-0.14.0 httpcore-1.0.5 httptools-0.6.1 httpx-0.27.0 orjson-3.10.5 pydub-0.25.1 python-dotenv-1.0.1 python-multipart-0.0.9 ruff-0.4.9 semantic-version-2.10.0 starlette-0.37.2 tomlkit-0.12.0 ujson-5.10.0 uvicorn-0.30.1 uvloop-0.19.0 watchfiles-0.22.0 websockets-11.0.3\n"
          ]
        }
      ]
    },
    {
      "cell_type": "code",
      "source": [
        "import os\n",
        "import sys\n",
        "from tempfile import NamedTemporaryFile\n",
        "from urllib.request import urlopen\n",
        "from urllib.parse import unquote, urlparse\n",
        "from urllib.error import HTTPError\n",
        "from zipfile import ZipFile\n",
        "import tarfile\n",
        "import shutil\n",
        "import numpy as np\n",
        "import pandas as pd\n",
        "import tensorflow as tf\n",
        "import matplotlib.pyplot as plt\n",
        "import random\n",
        "import plotly.express as px\n",
        "from scipy import ndimage\n",
        "from shutil import copyfile\n",
        "import cv2\n",
        "from sklearn.model_selection import train_test_split\n",
        "from skimage.io import imread\n",
        "from skimage.transform import resize\n",
        "from tensorflow.keras.layers import Conv2D, Add, MaxPooling2D, Dense, BatchNormalization, Input, Flatten, Dropout, LeakyReLU, AveragePooling2D\n",
        "from tensorflow.keras.models import Model, Sequential, load_model\n",
        "from tensorflow.keras.optimizers import Adam\n",
        "from tensorflow.keras.callbacks import LearningRateScheduler, EarlyStopping\n",
        "from tensorflow.keras.preprocessing.image import ImageDataGenerator\n",
        "import gradio as gr"
      ],
      "metadata": {
        "id": "CFlu1rNze9vP"
      },
      "execution_count": 3,
      "outputs": []
    },
    {
      "cell_type": "code",
      "execution_count": 4,
      "metadata": {
        "colab": {
          "base_uri": "https://localhost:8080/"
        },
        "id": "1kYN4dFpX1XB",
        "outputId": "f0e231fc-8f29-4d42-894c-97f8ae36a619"
      },
      "outputs": [
        {
          "output_type": "stream",
          "name": "stdout",
          "text": [
            "Downloading cifake-real-and-ai-generated-synthetic-images, 109625224 bytes compressed\n",
            "[==================================================] 109625224 bytes downloaded\n",
            "Downloaded and uncompressed: cifake-real-and-ai-generated-synthetic-images\n",
            "Data source import complete.\n"
          ]
        }
      ],
      "source": [
        "CHUNK_SIZE = 40960\n",
        "DATA_SOURCE_MAPPING = 'cifake-real-and-ai-generated-synthetic-images:https%3A%2F%2Fstorage.googleapis.com%2Fkaggle-data-sets%2F3041726%2F5256696%2Fbundle%2Farchive.zip%3FX-Goog-Algorithm%3DGOOG4-RSA-SHA256%26X-Goog-Credential%3Dgcp-kaggle-com%2540kaggle-161607.iam.gserviceaccount.com%252F20240614%252Fauto%252Fstorage%252Fgoog4_request%26X-Goog-Date%3D20240614T153038Z%26X-Goog-Expires%3D259200%26X-Goog-SignedHeaders%3Dhost%26X-Goog-Signature%3D5ca84c2f6739bd1f97d5742fc6661e2ff0e37df986a6be661d91b1af6909cdc67c117f9d273cac1637e187d4553ad44b0205d8f586b49f596fee408608708dcc9d9d36f2fddbd7d6659391dbbe90b3c0b1a48f45b78bfc25137a4d5daa05d52932f1a753f08ef282833ece4132ddb0fb5786b9a41430f53fe2a2e7d410728a6229cd4b0036ef852acd43ff614f703c756aca912be8254bddf4fa2d480ebe7fa47993b09364fc26f8dac492263b0fcf13c90639d6ac1e042b050d8e69696c95963c2e329af1acddc6f96109ca4c0a3895c53d4f11b8516c85735b85445c67b837b3cfe5a85085a5b74856837794a60e910b3266150b7d2e7a1e173cbc7f1bedc4'\n",
        "\n",
        "KAGGLE_INPUT_PATH='/kaggle/input'\n",
        "KAGGLE_WORKING_PATH='/kaggle/working'\n",
        "KAGGLE_SYMLINK='kaggle'\n",
        "\n",
        "!umount /kaggle/input/ 2> /dev/null\n",
        "shutil.rmtree('/kaggle/input', ignore_errors=True)\n",
        "os.makedirs(KAGGLE_INPUT_PATH, 0o777, exist_ok=True)\n",
        "os.makedirs(KAGGLE_WORKING_PATH, 0o777, exist_ok=True)\n",
        "\n",
        "try:\n",
        "  os.symlink(KAGGLE_INPUT_PATH, os.path.join(\"..\", 'input'), target_is_directory=True)\n",
        "except FileExistsError:\n",
        "  pass\n",
        "try:\n",
        "  os.symlink(KAGGLE_WORKING_PATH, os.path.join(\"..\", 'working'), target_is_directory=True)\n",
        "except FileExistsError:\n",
        "  pass\n",
        "\n",
        "for data_source_mapping in DATA_SOURCE_MAPPING.split(','):\n",
        "    directory, download_url_encoded = data_source_mapping.split(':')\n",
        "    download_url = unquote(download_url_encoded)\n",
        "    filename = urlparse(download_url).path\n",
        "    destination_path = os.path.join(KAGGLE_INPUT_PATH, directory)\n",
        "    try:\n",
        "        with urlopen(download_url) as fileres, NamedTemporaryFile() as tfile:\n",
        "            total_length = fileres.headers['content-length']\n",
        "            print(f'Downloading {directory}, {total_length} bytes compressed')\n",
        "            dl = 0\n",
        "            data = fileres.read(CHUNK_SIZE)\n",
        "            while len(data) > 0:\n",
        "                dl += len(data)\n",
        "                tfile.write(data)\n",
        "                done = int(50 * dl / int(total_length))\n",
        "                sys.stdout.write(f\"\\r[{'=' * done}{' ' * (50-done)}] {dl} bytes downloaded\")\n",
        "                sys.stdout.flush()\n",
        "                data = fileres.read(CHUNK_SIZE)\n",
        "            if filename.endswith('.zip'):\n",
        "              with ZipFile(tfile) as zfile:\n",
        "                zfile.extractall(destination_path)\n",
        "            else:\n",
        "              with tarfile.open(tfile.name) as tarfile:\n",
        "                tarfile.extractall(destination_path)\n",
        "            print(f'\\nDownloaded and uncompressed: {directory}')\n",
        "    except HTTPError as e:\n",
        "        print(f'Failed to load (likely expired) {download_url} to path {destination_path}')\n",
        "        continue\n",
        "    except OSError as e:\n",
        "        print(f'Failed to load {download_url} to path {destination_path}')\n",
        "        continue\n",
        "\n",
        "print('Data source import complete.')\n"
      ]
    },
    {
      "cell_type": "code",
      "execution_count": 5,
      "metadata": {
        "colab": {
          "base_uri": "https://localhost:8080/"
        },
        "id": "v8oFkYFaX1XC",
        "outputId": "14a12660-31ce-4adf-d1dc-94bee31fa7b8"
      },
      "outputs": [
        {
          "output_type": "stream",
          "name": "stdout",
          "text": [
            "Sampled images have been copied to /kaggle/working/sampled_data\n"
          ]
        }
      ],
      "source": [
        "def create_directory(directory_path):\n",
        "    if not os.path.exists(directory_path):\n",
        "        os.makedirs(directory_path)\n",
        "\n",
        "def sample_and_copy_images(src_directory, dest_directory, sample_fraction=0.25):\n",
        "    create_directory(dest_directory)\n",
        "    for sub_dir in ['FAKE', 'REAL']:\n",
        "        src_path = os.path.join(src_directory, sub_dir)\n",
        "        dest_path = os.path.join(dest_directory, sub_dir)\n",
        "        create_directory(dest_path)\n",
        "\n",
        "        # Get list of all files in the source directory\n",
        "        all_files = os.listdir(src_path)\n",
        "\n",
        "        # Calculate number of samples to take\n",
        "        num_samples = int(len(all_files) * sample_fraction)\n",
        "\n",
        "        # Randomly sample files\n",
        "        sampled_files = random.sample(all_files, num_samples)\n",
        "\n",
        "        # Copy sampled files to destination directory\n",
        "        for file_name in sampled_files:\n",
        "            shutil.copy(os.path.join(src_path, file_name), os.path.join(dest_path, file_name))\n",
        "\n",
        "# Define source and destination directories\n",
        "src_train_directory = '/kaggle/input/cifake-real-and-ai-generated-synthetic-images/train'\n",
        "src_test_directory = '/kaggle/input/cifake-real-and-ai-generated-synthetic-images/test'\n",
        "\n",
        "dest_directory = '/kaggle/working/sampled_data'\n",
        "\n",
        "# Sample and copy images for train and test datasets\n",
        "sample_and_copy_images(src_train_directory, os.path.join(dest_directory, 'train'), sample_fraction=0.25)\n",
        "sample_and_copy_images(src_test_directory, os.path.join(dest_directory, 'test'), sample_fraction=0.25)\n",
        "\n",
        "print(f\"Sampled images have been copied to {dest_directory}\")"
      ]
    },
    {
      "cell_type": "code",
      "execution_count": 6,
      "metadata": {
        "id": "UzPOHfVGX1XD"
      },
      "outputs": [],
      "source": [
        "def load_image_paths_and_labels(directory):\n",
        "    data = []\n",
        "    labels = []\n",
        "    for label, sub_dir in enumerate(['FAKE', 'REAL']):\n",
        "        path = os.path.join(directory, sub_dir)\n",
        "        for file_name in os.listdir(path):\n",
        "            file_path = os.path.join(path, file_name)\n",
        "            data.append(file_path)\n",
        "            labels.append('FAKE' if label == 0 else 'REAL')\n",
        "    return data, labels\n",
        "\n",
        "# Load train and test image paths and labels\n",
        "train_paths, train_labels = load_image_paths_and_labels(os.path.join(dest_directory, 'train'))\n",
        "test_paths, test_labels = load_image_paths_and_labels(os.path.join(dest_directory, 'test'))\n",
        "\n",
        "# Split the training data into training and validation sets (80% train, 20% validation)\n",
        "train_paths, valid_paths, train_labels, valid_labels = train_test_split(train_paths, train_labels, test_size=0.2, random_state=42, stratify=train_labels)"
      ]
    },
    {
      "cell_type": "code",
      "execution_count": 7,
      "metadata": {
        "id": "fn5FSAHEX1XD"
      },
      "outputs": [],
      "source": [
        "def image_whitening(image):\n",
        "    mean = np.mean(image)\n",
        "    std = np.std(image)\n",
        "    whitened_image = (image - mean) / std\n",
        "    return whitened_image\n",
        "\n",
        "def image_normalization(image):\n",
        "    normalized_image = image / 255.0\n",
        "    return normalized_image"
      ]
    },
    {
      "cell_type": "code",
      "execution_count": 8,
      "metadata": {
        "colab": {
          "base_uri": "https://localhost:8080/"
        },
        "id": "59gVDRhiX1XD",
        "outputId": "6157be01-dd0b-450e-ab19-dbadfd9a3634"
      },
      "outputs": [
        {
          "output_type": "stream",
          "name": "stdout",
          "text": [
            "Found 20000 validated image filenames belonging to 2 classes.\n",
            "Found 5000 validated image filenames belonging to 2 classes.\n",
            "Found 5000 validated image filenames belonging to 2 classes.\n"
          ]
        }
      ],
      "source": [
        "# Create an instance of the ImageDataGenerator with preprocessing functions\n",
        "datagen = ImageDataGenerator(preprocessing_function=lambda x: image_whitening(image_normalization(x)))\n",
        "\n",
        "# data generators\n",
        "train_generator = datagen.flow_from_dataframe(\n",
        "    dataframe=pd.DataFrame({'filename': train_paths, 'class': train_labels}),\n",
        "    x_col='filename',\n",
        "    y_col='class',\n",
        "    target_size=(64, 64),\n",
        "    batch_size=32,\n",
        "    class_mode='categorical',\n",
        "    shuffle=True\n",
        ")\n",
        "\n",
        "valid_generator = datagen.flow_from_dataframe(\n",
        "    dataframe=pd.DataFrame({'filename': valid_paths, 'class': valid_labels}),\n",
        "    x_col='filename',\n",
        "    y_col='class',\n",
        "    target_size=(64, 64),\n",
        "    batch_size=32,\n",
        "    class_mode='categorical',\n",
        "    shuffle=True\n",
        ")\n",
        "\n",
        "test_generator = datagen.flow_from_dataframe(\n",
        "    dataframe=pd.DataFrame({'filename': test_paths, 'class': test_labels}),\n",
        "    x_col='filename',\n",
        "    y_col='class',\n",
        "    target_size=(64, 64),\n",
        "    batch_size=32,\n",
        "    class_mode='categorical',\n",
        "    shuffle=False\n",
        ")"
      ]
    },
    {
      "cell_type": "code",
      "execution_count": 11,
      "metadata": {
        "colab": {
          "base_uri": "https://localhost:8080/"
        },
        "id": "Sh8pjLRa_P5g",
        "outputId": "c00b2be6-669b-41a8-8110-ba665418824f"
      },
      "outputs": [
        {
          "output_type": "stream",
          "name": "stdout",
          "text": [
            "Epoch 1/20\n",
            "625/625 [==============================] - 104s 163ms/step - loss: 0.6194 - accuracy: 0.6654 - val_loss: 0.5139 - val_accuracy: 0.7714\n",
            "Epoch 2/20\n",
            "625/625 [==============================] - 99s 158ms/step - loss: 0.5221 - accuracy: 0.7650 - val_loss: 0.4238 - val_accuracy: 0.8174\n",
            "Epoch 3/20\n",
            "625/625 [==============================] - 101s 162ms/step - loss: 0.4620 - accuracy: 0.8012 - val_loss: 0.3888 - val_accuracy: 0.8360\n",
            "Epoch 4/20\n",
            "625/625 [==============================] - 104s 166ms/step - loss: 0.4208 - accuracy: 0.8202 - val_loss: 0.3423 - val_accuracy: 0.8552\n",
            "Epoch 5/20\n",
            "625/625 [==============================] - 100s 161ms/step - loss: 0.3841 - accuracy: 0.8437 - val_loss: 0.3143 - val_accuracy: 0.8790\n",
            "Epoch 6/20\n",
            "625/625 [==============================] - 102s 163ms/step - loss: 0.3656 - accuracy: 0.8501 - val_loss: 0.3164 - val_accuracy: 0.8676\n",
            "Epoch 7/20\n",
            "625/625 [==============================] - 100s 159ms/step - loss: 0.3344 - accuracy: 0.8683 - val_loss: 0.3181 - val_accuracy: 0.8708\n",
            "Epoch 8/20\n",
            "625/625 [==============================] - 101s 162ms/step - loss: 0.3124 - accuracy: 0.8774 - val_loss: 0.2878 - val_accuracy: 0.8852\n",
            "Epoch 9/20\n",
            "625/625 [==============================] - 111s 177ms/step - loss: 0.2946 - accuracy: 0.8860 - val_loss: 0.4152 - val_accuracy: 0.8012\n",
            "Epoch 10/20\n",
            "625/625 [==============================] - 99s 158ms/step - loss: 0.2772 - accuracy: 0.8948 - val_loss: 0.2929 - val_accuracy: 0.8834\n",
            "Epoch 11/20\n",
            "625/625 [==============================] - 100s 161ms/step - loss: 0.2584 - accuracy: 0.9014 - val_loss: 0.3200 - val_accuracy: 0.8576\n",
            "Epoch 12/20\n",
            "625/625 [==============================] - 101s 162ms/step - loss: 0.2403 - accuracy: 0.9090 - val_loss: 0.3299 - val_accuracy: 0.8726\n",
            "Epoch 13/20\n",
            "625/625 [==============================] - 100s 160ms/step - loss: 0.2264 - accuracy: 0.9165 - val_loss: 0.3468 - val_accuracy: 0.8788\n"
          ]
        },
        {
          "output_type": "execute_result",
          "data": {
            "text/plain": [
              "21"
            ]
          },
          "metadata": {},
          "execution_count": 11
        }
      ],
      "source": [
        "# Define the CNN model\n",
        "model = Sequential([\n",
        "    Conv2D(26, (3, 3), input_shape=(64, 64, 3)),\n",
        "    LeakyReLU(alpha=0.1),\n",
        "    AveragePooling2D((2, 2)),\n",
        "    Conv2D(32, (3, 3)),\n",
        "    LeakyReLU(alpha=0.1),\n",
        "    AveragePooling2D((2, 2)),\n",
        "    Conv2D(64, (3, 3)),\n",
        "    LeakyReLU(alpha=0.1),\n",
        "    MaxPooling2D((2, 2)),\n",
        "    Conv2D(128, (3, 3), activation='relu'),\n",
        "    MaxPooling2D((2, 2)),\n",
        "    Flatten(),\n",
        "    Dense(8, activation='relu'),\n",
        "    Dropout(0.5),\n",
        "    Dense(2, activation='softmax')\n",
        "])\n",
        "\n",
        "# model\n",
        "model.compile(optimizer='adam', loss='categorical_crossentropy', metrics=['accuracy'])\n",
        "\n",
        "# early stopping callback\n",
        "early_stopping = EarlyStopping(monitor='val_loss', patience=5, restore_best_weights=True)\n",
        "\n",
        "# Training the model using generators\n",
        "history = model.fit(train_generator,\n",
        "                    validation_data=valid_generator,\n",
        "                    epochs=20,\n",
        "                    callbacks=[early_stopping],\n",
        "                    verbose=1)\n",
        "\n",
        "# Clear memory\n",
        "import gc\n",
        "gc.collect()"
      ]
    },
    {
      "cell_type": "code",
      "execution_count": 12,
      "metadata": {
        "colab": {
          "base_uri": "https://localhost:8080/",
          "height": 526
        },
        "id": "p1fTv-r__T0x",
        "outputId": "4882f266-97a5-4c07-f0e4-d322c4c99677"
      },
      "outputs": [
        {
          "output_type": "display_data",
          "data": {
            "text/plain": [
              "<Figure size 640x480 with 1 Axes>"
            ],
            "image/png": "[encoded data removed]"
          },
          "metadata": {}
        },
        {
          "output_type": "stream",
          "name": "stdout",
          "text": [
            "157/157 [==============================] - 9s 60ms/step - loss: 0.2837 - accuracy: 0.8864\n",
            "Test loss: 0.2837495803833008\n",
            "Test accuracy: 0.8863999843597412\n"
          ]
        }
      ],
      "source": [
        "# log loss\n",
        "plt.plot(history.history['loss'], label='train loss')\n",
        "plt.plot(history.history['val_loss'], label='val loss')\n",
        "plt.xlabel('Epochs')\n",
        "plt.ylabel('Log Loss')\n",
        "plt.legend()\n",
        "plt.title('Log Loss over Epochs')\n",
        "plt.show()\n",
        "\n",
        "# Evaluate the model on the test data\n",
        "test_loss, test_accuracy = model.evaluate(test_generator)\n",
        "print(f'Test loss: {test_loss}')\n",
        "print(f'Test accuracy: {test_accuracy}')"
      ]
    },
    {
      "cell_type": "code",
      "source": [
        "#image preprocessing functions\n",
        "def preprocess_image(image_path, target_size=(64, 64)):\n",
        "    image = imread(image_path)\n",
        "    image_resized = resize(image, target_size, anti_aliasing=True)\n",
        "    image_normalized = image_normalization(image_resized)\n",
        "    image_whitened = image_whitening(image_normalized)\n",
        "    return np.expand_dims(image_whitened, axis=0)  # Add batch dimension\n",
        "\n",
        "#function to classify an image\n",
        "def classify_image(image_path):\n",
        "    preprocessed_image = preprocess_image(image_path)\n",
        "    prediction = model.predict(preprocessed_image)\n",
        "    class_idx = np.argmax(prediction, axis=1)[0]\n",
        "    class_labels = {0: 'FAKE', 1: 'REAL'}\n",
        "    return class_labels[class_idx], prediction[0][class_idx]\n",
        "\n",
        "# Example\n",
        "image_path = '/content/Screenshot 2024-06-15 143904.jpg'\n",
        "label, confidence = classify_image(image_path)\n",
        "print(f\"The image is classified as {label} with confidence {confidence:.2f}\")\n"
      ],
      "metadata": {
        "colab": {
          "base_uri": "https://localhost:8080/"
        },
        "id": "Fzkk0zYkHxIo",
        "outputId": "4ea292d1-f8d8-46d1-ea6f-3ce98394a06b"
      },
      "execution_count": 13,
      "outputs": [
        {
          "output_type": "stream",
          "name": "stdout",
          "text": [
            "1/1 [==============================] - 0s 139ms/step\n",
            "The image is classified as FAKE with confidence 0.91\n"
          ]
        }
      ]
    },
    {
      "cell_type": "code",
      "source": [
        "tf.keras.models.save_model(model,'my_model2.hdf5')"
      ],
      "metadata": {
        "colab": {
          "base_uri": "https://localhost:8080/"
        },
        "id": "dBNx8KAANHPg",
        "outputId": "da5db54a-6fa8-4c66-8928-4491d9dd3f46"
      },
      "execution_count": 14,
      "outputs": [
        {
          "output_type": "stream",
          "name": "stderr",
          "text": [
            "<ipython-input-14-07e813155dae>:1: UserWarning: You are saving your model as an HDF5 file via `model.save()`. This file format is considered legacy. We recommend using instead the native Keras format, e.g. `model.save('my_model.keras')`.\n",
            "  tf.keras.models.save_model(model,'my_model2.hdf5')\n"
          ]
        }
      ]
    },
    {
      "cell_type": "code",
      "source": [
        "# Load your trained model\n",
        "model = load_model('/content/my_model2.hdf5')\n",
        "\n",
        "# image preprocessing functions\n",
        "def preprocess_image(image, target_size=(64, 64)):\n",
        "    img_resized = resize(image, target_size, anti_aliasing=True)\n",
        "    img_normalized = image_normalization(img_resized)\n",
        "    img_whitened = image_whitening(img_normalized)\n",
        "    return np.expand_dims(img_whitened, axis=0)\n",
        "\n",
        "# function to classify an image\n",
        "def classify_image(image):\n",
        "    preprocessed_image = preprocess_image(image)\n",
        "    prediction = model.predict(preprocessed_image)\n",
        "    class_idx = np.argmax(prediction, axis=1)[0]\n",
        "    class_labels = {0: 'FAKE', 1: 'REAL'}\n",
        "    return class_labels[class_idx], float(prediction[0][class_idx])\n",
        "\n",
        "# Gradio interface\n",
        "interface = gr.Interface(\n",
        "    fn=classify_image,\n",
        "    inputs=gr.Image(type=\"numpy\", label=\"Upload Image\"),\n",
        "    outputs=[gr.Textbox(label=\"Class\"), gr.Number(label=\"Confidence\")],\n",
        "    title=\"Image Classification\",\n",
        "    description=\"Upload an image to classify it as REAL or FAKE.\"\n",
        ")\n",
        "\n",
        "interface.launch()\n"
      ],
      "metadata": {
        "colab": {
          "base_uri": "https://localhost:8080/",
          "height": 650
        },
        "id": "O6Ku4v70Q-r3",
        "outputId": "a7081734-4020-47eb-93c0-f11449e489d9"
      },
      "execution_count": 15,
      "outputs": [
        {
          "output_type": "stream",
          "name": "stdout",
          "text": [
            "Setting queue=True in a Colab notebook requires sharing enabled. Setting `share=True` (you can turn this off by setting `share=False` in `launch()` explicitly).\n",
            "\n",
            "Colab notebook detected. To show errors in colab notebook, set debug=True in launch()\n",
            "Running on public URL: https://9c322b3164cdf84e30.gradio.live\n",
            "\n",
            "This share link expires in 72 hours. For free permanent hosting and GPU upgrades, run `gradio deploy` from Terminal to deploy to Spaces (https://huggingface.co/spaces)\n"
          ]
        },
        {
          "output_type": "display_data",
          "data": {
            "text/plain": [
              "<IPython.core.display.HTML object>"
            ],
            "text/html": [
              "<div><iframe src=\"https://9c322b3164cdf84e30.gradio.live\" width=\"100%\" height=\"500\" allow=\"autoplay; camera; microphone; clipboard-read; clipboard-write;\" frameborder=\"0\" allowfullscreen></iframe></div>"
            ]
          },
          "metadata": {}
        },
        {
          "output_type": "execute_result",
          "data": {
            "text/plain": []
          },
          "metadata": {},
          "execution_count": 15
        }
      ]
    },
    {
      "cell_type": "markdown",
      "source": [
        "OUR OTHER ATTEMPTS"
      ],
      "metadata": {
        "id": "2cDrjqqZf3zW"
      }
    },
    {
      "cell_type": "markdown",
      "source": [
        "1. Training using ResNet50. (rejected due to low accuracy)"
      ],
      "metadata": {
        "id": "JalAlQV-hLJM"
      }
    },
    {
      "cell_type": "code",
      "source": [
        "# #ResNet50\n",
        "# from tensorflow.keras.applications import ResNet50\n",
        "# from tensorflow.keras.layers import Dense, GlobalAveragePooling2D, Dropout,Reshape\n",
        "# from tensorflow.keras.models import Model\n",
        "# from tensorflow.keras.callbacks import EarlyStopping\n",
        "\n",
        "# # Load the ResNet50 model, excluding the top layers\n",
        "# base_model = ResNet50(weights='imagenet', include_top=False, input_shape=(64, 64, 3))\n",
        "\n",
        "# # Add custom layers on top of ResNet50\n",
        "# x = base_model.output\n",
        "# x = GlobalAveragePooling2D()(x)\n",
        "# cnn_model = Sequential([\n",
        "#     Conv2D(16, (3, 3), input_shape=(64, 64, 3)),\n",
        "#     LeakyReLU(alpha=0.1),\n",
        "#     AveragePooling2D((2, 2)),\n",
        "#     Conv2D(32, (3, 3)),\n",
        "#     LeakyReLU(alpha=0.1),\n",
        "#     AveragePooling2D((2, 2)),\n",
        "#     Conv2D(64, (3, 3)),\n",
        "#     LeakyReLU(alpha=0.1),\n",
        "#     MaxPooling2D((2, 2)),\n",
        "#     Conv2D(128, (3, 3), activation='relu'),\n",
        "#     MaxPooling2D((2, 2)),\n",
        "#     Flatten(),\n",
        "#     Dense(128, activation='relu'),\n",
        "#     Dropout(0.5),\n",
        "#     Dense(2, activation='softmax')\n",
        "# ])\n",
        "# x = Flatten()(x)\n",
        "# x = Dense(64*64*3, activation='relu')(x)  # Reshape to be compatible with the custom CNN input\n",
        "# x = Reshape((64, 64, 3))(x)\n",
        "# output = cnn_model(x)\n",
        "\n",
        "# # Define the model\n",
        "# model = Model(inputs=base_model.input, outputs=output)\n",
        "\n",
        "# # Freeze the layers of the base model\n",
        "# for layer in base_model.layers:\n",
        "#     layer.trainable = False\n",
        "\n",
        "# # Compile the model\n",
        "# model.compile(optimizer='adam', loss='categorical_crossentropy', metrics=['accuracy'])\n",
        "\n",
        "# # Define early stopping callback\n",
        "# early_stopping = EarlyStopping(monitor='val_loss', patience=5, restore_best_weights=True)\n",
        "\n",
        "# # Train the model using generators\n",
        "# history = model.fit(train_generator,\n",
        "#                     validation_data=valid_generator,\n",
        "#                     epochs=20,\n",
        "#                     callbacks=[early_stopping],\n",
        "#                     verbose=1)\n",
        "\n",
        "# # Clear memory\n",
        "# import gc\n",
        "# gc.collect()"
      ],
      "metadata": {
        "id": "mUC2myzEJAzB",
        "colab": {
          "base_uri": "https://localhost:8080/"
        },
        "outputId": "0052eb6d-8de0-45c8-fd88-b5cd89b01ddc"
      },
      "execution_count": null,
      "outputs": [
        {
          "output_type": "stream",
          "name": "stdout",
          "text": [
            "Epoch 1/20\n",
            "625/625 [==============================] - 31s 40ms/step - loss: 0.5375 - accuracy: 0.7330 - val_loss: 0.5113 - val_accuracy: 0.7456\n",
            "Epoch 2/20\n",
            "625/625 [==============================] - 24s 38ms/step - loss: 0.4773 - accuracy: 0.7719 - val_loss: 0.4809 - val_accuracy: 0.7766\n",
            "Epoch 3/20\n",
            "625/625 [==============================] - 24s 39ms/step - loss: 0.4525 - accuracy: 0.7883 - val_loss: 0.4662 - val_accuracy: 0.7718\n",
            "Epoch 4/20\n",
            "625/625 [==============================] - 25s 40ms/step - loss: 0.4317 - accuracy: 0.8015 - val_loss: 0.4686 - val_accuracy: 0.7848\n",
            "Epoch 5/20\n",
            "625/625 [==============================] - 26s 42ms/step - loss: 0.4177 - accuracy: 0.8100 - val_loss: 0.4474 - val_accuracy: 0.7900\n",
            "Epoch 6/20\n",
            "625/625 [==============================] - 24s 38ms/step - loss: 0.4015 - accuracy: 0.8185 - val_loss: 0.4513 - val_accuracy: 0.7924\n",
            "Epoch 7/20\n",
            "625/625 [==============================] - 25s 41ms/step - loss: 0.3818 - accuracy: 0.8290 - val_loss: 0.4552 - val_accuracy: 0.7822\n",
            "Epoch 8/20\n",
            "625/625 [==============================] - 24s 38ms/step - loss: 0.3618 - accuracy: 0.8400 - val_loss: 0.4690 - val_accuracy: 0.7844\n",
            "Epoch 9/20\n",
            "625/625 [==============================] - 25s 40ms/step - loss: 0.3437 - accuracy: 0.8501 - val_loss: 0.4908 - val_accuracy: 0.7714\n",
            "Epoch 10/20\n",
            "625/625 [==============================] - 24s 39ms/step - loss: 0.3223 - accuracy: 0.8612 - val_loss: 0.5313 - val_accuracy: 0.7650\n"
          ]
        },
        {
          "output_type": "execute_result",
          "data": {
            "text/plain": [
              "19634"
            ]
          },
          "metadata": {},
          "execution_count": 17
        }
      ]
    },
    {
      "cell_type": "code",
      "source": [
        "# # Plot log loss\n",
        "# plt.plot(history.history['loss'], label='train loss')\n",
        "# plt.plot(history.history['val_loss'], label='val loss')\n",
        "# plt.xlabel('Epochs')\n",
        "# plt.ylabel('Log Loss')\n",
        "# plt.legend()\n",
        "# plt.title('Log Loss over Epochs')\n",
        "# plt.show()\n",
        "\n",
        "# # Evaluate the model on the test data\n",
        "# test_loss, test_accuracy = model.evaluate(test_generator)\n",
        "# print(f'Test loss: {test_loss}')\n",
        "# print(f'Test accuracy: {test_accuracy}')\n"
      ],
      "metadata": {
        "colab": {
          "base_uri": "https://localhost:8080/",
          "height": 524
        },
        "id": "yxij0TVhkgx8",
        "outputId": "e87b517c-aa80-413c-a901-4ec5bb22c749"
      },
      "execution_count": null,
      "outputs": [
        {
          "output_type": "display_data",
          "data": {
            "text/plain": [
              "<Figure size 640x480 with 1 Axes>"
            ],
            "image/png": "[encoded data removed]"
          },
          "metadata": {}
        },
        {
          "output_type": "stream",
          "name": "stdout",
          "text": [
            "157/157 [==============================] - 4s 25ms/step - loss: 0.4692 - accuracy: 0.7786\n",
            "Test loss: 0.469226598739624\n",
            "Test accuracy: 0.7785999774932861\n"
          ]
        }
      ]
    },
    {
      "cell_type": "markdown",
      "source": [
        "2. Training using Ensemble on CNN. (rejected due to very high computation time)"
      ],
      "metadata": {
        "id": "WWcA4A5Rh5T9"
      }
    },
    {
      "cell_type": "code",
      "source": [
        "# import os\n",
        "# import shutil\n",
        "# import numpy as np\n",
        "# import pandas as pd\n",
        "# from sklearn.model_selection import train_test_split\n",
        "# from skimage.io import imread\n",
        "# from skimage.transform import resize\n",
        "# from tensorflow.keras.preprocessing.image import ImageDataGenerator\n",
        "# from tensorflow.keras.models import Sequential\n",
        "# from tensorflow.keras.layers import Conv2D, AveragePooling2D, MaxPooling2D, Flatten, Dense, Dropout, LeakyReLU\n",
        "# from tensorflow.keras.optimizers import Adam\n",
        "# from tensorflow.keras.callbacks import EarlyStopping\n",
        "# import random\n",
        "# import matplotlib.pyplot as plt\n",
        "\n",
        "# # Function to create a directory if it doesn't exist\n",
        "# def create_directory(directory_path):\n",
        "#     if not os.path.exists(directory_path):\n",
        "#         os.makedirs(directory_path)\n",
        "\n",
        "# # Function to sample and copy images from source to destination\n",
        "# def sample_and_copy_images(src_directory, dest_directory, sample_fraction=0.2):\n",
        "#     create_directory(dest_directory)\n",
        "#     for sub_dir in ['FAKE', 'REAL']:\n",
        "#         src_path = os.path.join(src_directory, sub_dir)\n",
        "#         dest_path = os.path.join(dest_directory, sub_dir)\n",
        "#         create_directory(dest_path)\n",
        "\n",
        "#         all_files = os.listdir(src_path)\n",
        "#         num_samples = int(len(all_files) * sample_fraction)\n",
        "#         sampled_files = random.sample(all_files, num_samples)\n",
        "\n",
        "#         for file_name in sampled_files:\n",
        "#             shutil.copy(os.path.join(src_path, file_name), os.path.join(dest_path, file_name))\n",
        "\n",
        "# # Directories\n",
        "# src_train_directory = '/kaggle/input/cifake-real-and-ai-generated-synthetic-images/train'\n",
        "# src_test_directory = '/kaggle/input/cifake-real-and-ai-generated-synthetic-images/test'\n",
        "# dest_directory = '/kaggle/working/sampled_data'\n",
        "\n",
        "# # Sample and copy images for initial training\n",
        "# sample_and_copy_images(src_train_directory, os.path.join(dest_directory, 'initial_train'), sample_fraction=0.2)\n",
        "# sample_and_copy_images(src_test_directory, os.path.join(dest_directory, 'test'), sample_fraction=0.2)\n",
        "\n",
        "# # Load image paths and labels\n",
        "# def load_image_paths_and_labels(directory):\n",
        "#     data = []\n",
        "#     labels = []\n",
        "#     for label, sub_dir in enumerate(['FAKE', 'REAL']):\n",
        "#         path = os.path.join(directory, sub_dir)\n",
        "#         for file_name in os.listdir(path):\n",
        "#             file_path = os.path.join(path, file_name)\n",
        "#             data.append(file_path)\n",
        "#             labels.append('FAKE' if label == 0 else 'REAL')\n",
        "#     return data, labels\n",
        "\n",
        "# train_paths, train_labels = load_image_paths_and_labels(os.path.join(dest_directory, 'initial_train'))\n",
        "\n",
        "# # Data generators with data augmentation\n",
        "# datagen = ImageDataGenerator(\n",
        "#     preprocessing_function=lambda x: (x / 255.0 - np.mean(x / 255.0)) / np.std(x / 255.0),\n",
        "#     rotation_range=20,\n",
        "#     width_shift_range=0.2,\n",
        "#     height_shift_range=0.2,\n",
        "#     shear_range=0.2,\n",
        "#     zoom_range=0.2,\n",
        "#     horizontal_flip=True,\n",
        "#     fill_mode='nearest'\n",
        "# )\n",
        "\n",
        "# def create_model():\n",
        "#     model = Sequential([\n",
        "#         Conv2D(32, (3, 3), input_shape=(64, 64, 3)),\n",
        "#         LeakyReLU(alpha=0.1),\n",
        "#         AveragePooling2D((2, 2)),\n",
        "#         Conv2D(64, (3, 3)),\n",
        "#         LeakyReLU(alpha=0.1),\n",
        "#         AveragePooling2D((2, 2)),\n",
        "#         Conv2D(128, (3, 3), activation='relu'),\n",
        "#         MaxPooling2D((2, 2)),\n",
        "#         Flatten(),\n",
        "#         Dense(128, activation='relu'),\n",
        "#         Dropout(0.5),\n",
        "#         Dense(2, activation='softmax')\n",
        "#     ])\n",
        "#     model.compile(optimizer=Adam(learning_rate=0.0001), loss='categorical_crossentropy', metrics=['accuracy'])\n",
        "#     return model\n",
        "\n",
        "# def train_and_boost(train_paths, train_labels, n_models=5):\n",
        "#     trained_models = []\n",
        "#     for i in range(n_models):\n",
        "#         # Split into training and validation sets\n",
        "#         X_train, X_valid, y_train, y_valid = train_test_split(train_paths, train_labels, test_size=0.2, random_state=42, stratify=train_labels)\n",
        "\n",
        "#         train_generator = datagen.flow_from_dataframe(\n",
        "#             dataframe=pd.DataFrame({'filename': X_train, 'class': y_train}),\n",
        "#             x_col='filename',\n",
        "#             y_col='class',\n",
        "#             target_size=(64, 64),\n",
        "#             batch_size=32,\n",
        "#             class_mode='categorical',\n",
        "#             shuffle=True\n",
        "#         )\n",
        "\n",
        "#         valid_generator = datagen.flow_from_dataframe(\n",
        "#             dataframe=pd.DataFrame({'filename': X_valid, 'class': y_valid}),\n",
        "#             x_col='filename',\n",
        "#             y_col='class',\n",
        "#             target_size=(64, 64),\n",
        "#             batch_size=32,\n",
        "#             class_mode='categorical',\n",
        "#             shuffle=True\n",
        "#         )\n",
        "\n",
        "#         # Train the model\n",
        "#         model = create_model()\n",
        "#         early_stopping = EarlyStopping(monitor='val_loss', patience=3, restore_best_weights=True)\n",
        "#         history = model.fit(train_generator,\n",
        "#                             validation_data=valid_generator,\n",
        "#                             epochs=50,\n",
        "#                             callbacks=[early_stopping],\n",
        "#                             verbose=1)\n",
        "\n",
        "#         # Identify misclassified images and boost\n",
        "#         misclassified_indices = []\n",
        "#         predictions = model.predict(valid_generator)\n",
        "#         pred_labels = np.argmax(predictions, axis=1)\n",
        "#         true_labels = valid_generator.classes\n",
        "\n",
        "#         for idx, (true, pred) in enumerate(zip(true_labels, pred_labels)):\n",
        "#             if true != pred:\n",
        "#                 misclassified_indices.append(idx)\n",
        "\n",
        "#         misclassified_paths = [X_valid[idx] for idx in misclassified_indices]\n",
        "#         misclassified_labels = [y_valid[idx] for idx in misclassified_indices]\n",
        "\n",
        "#         train_paths.extend(misclassified_paths)\n",
        "#         train_labels.extend(misclassified_labels)\n",
        "\n",
        "#         trained_models.append(model)\n",
        "\n",
        "#     return trained_models\n",
        "\n",
        "# # Train models using boosting\n",
        "# models = train_and_boost(train_paths, train_labels, n_models=5)\n",
        "\n",
        "# # Make predictions using ensemble voting\n",
        "# test_paths, test_labels = load_image_paths_and_labels(os.path.join(dest_directory, 'test'))\n",
        "\n",
        "# test_generator = datagen.flow_from_dataframe(\n",
        "#     dataframe=pd.DataFrame({'filename': test_paths, 'class': test_labels}),\n",
        "#     x_col='filename',\n",
        "#     y_col='class',\n",
        "#     target_size=(64, 64),\n",
        "#     batch_size=32,\n",
        "#     class_mode='categorical',\n",
        "#     shuffle=False\n",
        "# )\n",
        "\n",
        "# predictions = [model.predict(test_generator) for model in models]\n",
        "# avg_predictions = np.mean(predictions, axis=0)\n",
        "# final_predictions = np.argmax(avg_predictions, axis=1)\n",
        "\n",
        "# # Convert class indices back to labels\n",
        "# class_indices = {v: k for k, v in test_generator.class_indices.items()}\n",
        "# final_labels = [class_indices[pred] for pred in final_predictions]\n",
        "\n",
        "# # Evaluate the ensemble model\n",
        "# test_true_labels = test_generator.classes\n",
        "# accuracy = np.mean(final_labels == test_true_labels)\n",
        "# print(f'Ensemble model accuracy: {accuracy}')\n"
      ],
      "metadata": {
        "id": "Z0vdoPQmhF1A"
      },
      "execution_count": null,
      "outputs": []
    },
    {
      "cell_type": "markdown",
      "source": [
        "3. We also used t-SNE to visualize data distribution so that we  could potentially use KNN. (Rejected due to no grouping of data points.)"
      ],
      "metadata": {
        "id": "-gfO4EFeiBJK"
      }
    },
    {
      "cell_type": "code",
      "source": [],
      "metadata": {
        "id": "XzkAzh96iB_r"
      },
      "execution_count": null,
      "outputs": []
    }
  ]
}